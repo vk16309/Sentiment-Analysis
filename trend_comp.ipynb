{
 "cells": [
  {
   "cell_type": "code",
   "execution_count": 9,
   "metadata": {},
   "outputs": [],
   "source": [
    "from urllib.request import urlopen as uReq\n",
    "import requests\n",
    "from bs4 import BeautifulSoup as Soup\n",
    "from selenium import webdriver\n",
    "from selenium.webdriver.chrome.options import Options\n",
    "from selenium.webdriver.common.keys import Keys"
   ]
  },
  {
   "cell_type": "code",
   "execution_count": 10,
   "metadata": {},
   "outputs": [],
   "source": [
    "options = Options()\n",
    "options.add_argument('--headless')\n",
    "options.add_argument('--disable-gpu')\n",
    "driver= webdriver.Chrome(executable_path=\"C:/Users/Ishwar/Downloads/chromedriver_win32/chromedriver.exe\", options=options)\n",
    "driver.get('https://www.bseindia.com/corporates/tagcloud/MktGalaxy_C.aspx')\n",
    "html= driver.execute_script(\"return document.documentElement.outerHTML\")"
   ]
  },
  {
   "cell_type": "code",
   "execution_count": 11,
   "metadata": {},
   "outputs": [
    {
     "name": "stdout",
     "output_type": "stream",
     "text": [
      "companies trending up:\n",
      " ['ABBOTINDIA', 'AEGISLOG', 'APOLLOHOSP', 'COALINDIA', 'CREDITACC', 'IRCON', 'MIDHANI', 'NAVINFLUOR', 'PTC', 'TEAMLEASE', 'TV18BRDCST']\n",
      "\n",
      "companies trending down\n",
      ": ['BANDHANBNK', 'BANKBARODA', 'BASF', 'BHARTIARTL', 'BHEL', 'GAYAPROJ', 'IDEA', 'INDUSINDBK', 'INFRATEL', 'MUTHOOTFIN', 'NCC', 'SADBHAV', 'TATACHEM', 'UNIONBANK']\n"
     ]
    }
   ],
   "source": [
    "page_soup=Soup(html,\"html.parser\")\n",
    "cont=[]\n",
    "trendingup=list()\n",
    "trendingdown=list()\n",
    "for x in range(25):\n",
    "    y=page_soup.find(id=x)\n",
    "    cont.append(y)\n",
    "for z in cont:\n",
    "    col=z.font[\"color\"]\n",
    "    res=z.find('a').text\n",
    "    if col=='red':\n",
    "        trendingdown.append(res)\n",
    "    else:\n",
    "        trendingup.append(res)\n",
    "print(\"companies trending up:\\n\",trendingup)\n",
    "print(\"\\ncompanies trending down\\n:\",trendingdown)"
   ]
  },
  {
   "cell_type": "code",
   "execution_count": 12,
   "metadata": {},
   "outputs": [],
   "source": [
    "#driver.quit()    "
   ]
  },
  {
   "cell_type": "code",
   "execution_count": 13,
   "metadata": {},
   "outputs": [],
   "source": [
    "news=dict()"
   ]
  },
  {
   "cell_type": "code",
   "execution_count": 16,
   "metadata": {},
   "outputs": [
    {
     "name": "stdout",
     "output_type": "stream",
     "text": [
      "http://www.moneycontrol.com/company-article/abbottindia/news/AI51\n",
      "Buy Abbott India target of Rs 16880: ICICI Direct\n",
      "Abbott India Q3 net profit rises 59% to Rs 187cr\n",
      "Abbott India Standalone September 2019 Net Sales at Rs 1,054.80 crore, up 7.66% Y-o-Y\n",
      "Abbott India Standalone September 2019 Net Sales at Rs 1,054.80 crore, up 7.66% Y-o-Y\n",
      "http://www.moneycontrol.com/company-article/aegislogistics/news/AL9\n",
      "http://www.moneycontrol.com/company-article/apollohospitalsenterprises/news/AHE\n",
      "Buy Apollo Hospitals; target of Rs 2060: ICICI Direct\n",
      "Apollo Hospitals posts consolidated Q3 net profit at Rs 89.95 crore\n",
      "Experts pick 15 stocks that are long-term buys even as Budget disappoints\n",
      "Sensex, Nifty hit fresh record high; brokerages see 15-44% upside in these 14 stocks\n",
      "Apollo Hospitals Q2 PAT seen up 111.5% YoY to Rs. 130.9 cr: Kotak\n",
      "http://www.moneycontrol.com/company-article/coalindia/news/CI11\n",
      "Hold Coal India; target of Rs 200: ICICI Direct\n",
      "Coal India Consolidated December 2019 Net Sales at Rs 23,190.49 crore, down 7.41% Y-o-Y\n",
      "Accumulate Coal India; target of Rs 225: Prabhudas Lilladher\n",
      "Coal India share price gains 2% post Q3 show; Jefferies maintains buy\n",
      "Coal India Consolidated December 2019 Net Sales at Rs 23,190.49 crore, down 7.41% Y-o-Y\n",
      "Coal India Q3 net profit slips 14% to Rs 3,922 crore\n",
      "Coal India will exceed last year's production figures-official\n",
      "NCL sets up R&D centre for sustainable coal mining\n",
      "Coal India share price rises 2% as Citi maintains buy\n",
      "Coal India production up 10.3%, share price jumps 2%\n",
      "Coal India production to not exceed 640 million tn in FY20: A K Jha\n",
      "Coal India output in January rises 10.7%\n",
      "CIL gets green nod for 17 mining projects: Coal Minister\n",
      "Coal India - Taking a new turn in 2020\n",
      "Accumulate Coal India; target of Rs 235: Prabhudas Lilladher\n",
      "Hold Coal India; target of Rs 225: ICICI Direct\n",
      "Coal India Consolidated September 2019 Net Sales at Rs 20,382.63 crore, down 8.18% Y-o-Y\n",
      "Buy Coal India; target of Rs 264: Motilal Oswal\n",
      "http://www.moneycontrol.com/company-article/creditaccessgrameen/news/CG03\n",
      "CreditAccess Grameen reports strong AUM growth in Q3: Highlights from earnings call\n",
      "CreditAccess Gr Standalone December 2019 Net Sales at Rs 452.04 crore, up 29.45% Y-o-Y\n",
      "CreditAccess Gr Standalone December 2019 Net Sales at Rs 452.04 crore, up 29.45% Y-o-Y\n",
      "Earnings hits & misses: Check out the top 10 companies which have declared Sept quarter results this week\n",
      "CreditAccess Grameen Q2 net up 37% to Rs 101 cr\n",
      "http://www.moneycontrol.com/company-article/irconinternational/news/II07\n",
      "Ircon International share price jumps 5% after board recommends stock split\n",
      "Ircon International Q3 net profit rises 53% to Rs 142 cr\n",
      "Agartala-Akhaura rail link in September 2021\n",
      "Ircon International share price at 52-week high as board to consider stock split\n",
      "http://www.moneycontrol.com/company-article/mishradhatunigamltd/news/MDN\n",
      "MIDHANI share price rises 3% after ICICI Sec initiates 'buy', sees 55% upside\n",
      "Mishra Dhatu Nigam share price rises 3% on ISRO's order for Gaganyaan\n",
      "Mishra Dhatu touches 52-week high on robust Q2 nos\n",
      "http://www.moneycontrol.com/company-article/navinfluorineinternational/news/NFI\n",
      "Navin Fluorine Standalone December 2019 Net Sales at Rs 251.60 crore, up 11.32% Y-o-Y\n",
      "Navin Fluorine Consolidated December 2019 Net Sales at Rs 260.50 crore, up 11.4% Y-o-Y\n",
      "Navin Fluorine Standalone December 2019 Net Sales at Rs 251.60 crore, up 11.32% Y-o-Y\n",
      "Navin Fluorine Consolidated December 2019 Net Sales at Rs 260.50 crore, up 11.4% Y-o-Y\n",
      "http://www.moneycontrol.com/company-article/teamleaseservices/news/TS13\n",
      "TeamLease Ser. Standalone December 2019 Net Sales at Rs 1,244.82 crore, up 14.16% Y-o-Y\n",
      "TeamLease Ser. Standalone December 2019 Net Sales at Rs 1,244.82 crore, up 14.16% Y-o-Y\n",
      "Buy Teamlease Services; target of Rs 3415: HDFC Securities\n",
      "http://www.moneycontrol.com/company-article/tv18broadcast/news/IBN\n",
      "Network18: A media behemoth to deliver shareholder value\n",
      "TV18 Broadcast Q3 profit jumps 39% on strong operating show\n",
      "TV18 Broadcast Q2 profit jumps 15%, subscription revenue rises 43%\n"
     ]
    }
   ],
   "source": [
    "for i in trendingup:\n",
    "    comp=i\n",
    "    news.setdefault(comp,[])\n",
    "    with requests.Session() as s:\n",
    "        url = 'http://www.moneycontrol.com/stocks/cptmarket/compsearchnew.php?search_data=&cid=&mbsearch_str=&topsearch_type=1&search_str='+comp\n",
    "        r = s.get(url)\n",
    "        soup = Soup(r.content,'html.parser')\n",
    "        r = s.get(url)\n",
    "        view=Soup(r.content,'html.parser')\n",
    "        #a=view.findAll(\"div\",{\"class\":\"FR\"})\n",
    "        #print(temp)\n",
    "        a=view.findAll(\"a\",{\"title\":\"View More\"})\n",
    "        for ele in a:\n",
    "            if \"http://www.moneycontrol.com/company-article\" in ele['href']:\n",
    "                print(ele['href'])\n",
    "                driver.get(ele['href'])\n",
    "                html= driver.execute_script(\"return document.documentElement.outerHTML\")\n",
    "                page_soup=Soup(html,\"html.parser\")\n",
    "                heading=page_soup.findAll(\"a\", {\"class\":\"g_14bl\"})\n",
    "                for h in heading:\n",
    "                    print(h.strong.text)\n",
    "                    news[comp].append(h.strong.text)\n",
    "        "
   ]
  },
  {
   "cell_type": "code",
   "execution_count": null,
   "metadata": {},
   "outputs": [],
   "source": [
    "for i in trendingdown:\n",
    "    comp=i\n",
    "    news.setdefault(comp,[])\n",
    "    with requests.Session() as s:\n",
    "        url = 'http://www.moneycontrol.com/stocks/cptmarket/compsearchnew.php?search_data=&cid=&mbsearch_str=&topsearch_type=1&search_str='+comp\n",
    "        r = s.get(url)\n",
    "        soup = Soup(r.content,'html.parser')\n",
    "        r = s.get(url)\n",
    "        view=Soup(r.content,'html.parser')\n",
    "        #a=view.findAll(\"div\",{\"class\":\"FR\"})\n",
    "        #print(temp)\n",
    "        a=view.findAll(\"a\",{\"title\":\"View More\"})\n",
    "        for ele in a:\n",
    "            if \"http://www.moneycontrol.com/company-article\" in ele['href']:\n",
    "                driver.get(ele['href'])\n",
    "                html= driver.execute_script(\"return document.documentElement.outerHTML\")\n",
    "                page_soup=Soup(html,\"html.parser\")\n",
    "                heading=page_soup.findAll(\"a\", {\"class\":\"g_14bl\"})\n",
    "                for h in heading:\n",
    "                    news[comp].append(h.strong.text)\n",
    "        "
   ]
  },
  {
   "cell_type": "code",
   "execution_count": null,
   "metadata": {},
   "outputs": [],
   "source": [
    "for ele in trendingup:\n",
    "    print(ele,\" : \")\n",
    "    for n in news[ele]:\n",
    "        print(n)\n",
    "    print(\"****\")"
   ]
  },
  {
   "cell_type": "code",
   "execution_count": null,
   "metadata": {},
   "outputs": [],
   "source": []
  }
 ],
 "metadata": {
  "kernelspec": {
   "display_name": "Python 3",
   "language": "python",
   "name": "python3"
  },
  "language_info": {
   "codemirror_mode": {
    "name": "ipython",
    "version": 3
   },
   "file_extension": ".py",
   "mimetype": "text/x-python",
   "name": "python",
   "nbconvert_exporter": "python",
   "pygments_lexer": "ipython3",
   "version": "3.7.1"
  }
 },
 "nbformat": 4,
 "nbformat_minor": 2
}
